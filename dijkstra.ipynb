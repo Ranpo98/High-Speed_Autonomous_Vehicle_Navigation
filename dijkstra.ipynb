{
 "cells": [
  {
   "cell_type": "code",
   "execution_count": 1434,
   "id": "9241f900",
   "metadata": {},
   "outputs": [],
   "source": [
    "import numpy as np\n",
    "from scipy.spatial import KDTree\n",
    "import random\n",
    "import math\n",
    "import copy\n",
    "import matplotlib.pyplot as plt"
   ]
  },
  {
   "cell_type": "code",
   "execution_count": 1435,
   "id": "d41d98c2",
   "metadata": {},
   "outputs": [],
   "source": [
    "# dijkstra algo with nested dict\n",
    "graph = {\n",
    "    'a':{'b':3, 'c':2, 'd':7},\n",
    "    'b':{'c':1, 'f':5},\n",
    "    'c':{'f':6, 'd':2},\n",
    "    'd':{'e':3, 'g':6},\n",
    "    'e':{'g':3, 'h':4},\n",
    "    'f':{'e':1, 'h':8},\n",
    "    'g':{'h':2},\n",
    "    'h':{'g':2}\n",
    "}\n",
    "def dijkstra(graph, start, goal):\n",
    "    shortest_dist = {}\n",
    "    predecessor = {}\n",
    "    nodes = graph\n",
    "    path = []\n",
    "    \n",
    "    # set cost of start = 0 and the rest to infinity\n",
    "    for node in nodes:\n",
    "        shortest_dist[node] = np.inf\n",
    "    shortest_dist[start] = 0\n",
    "    \n",
    "    # loop through the vertices\n",
    "    while nodes:\n",
    "        min_dist_node = None\n",
    "        for node in nodes:\n",
    "            if min_dist_node is None:\n",
    "                min_dist_node = node\n",
    "            elif shortest_dist[node] < shortest_dist[min_dist_node]:\n",
    "                min_dist_node = node\n",
    "            print(\"expanding node \", min_dist_node)\n",
    "            \n",
    "        path_options = graph[min_dist_node].items() # get vertex and cost of min_dist_node\n",
    "        print(\"path options are \", path_options)\n",
    "        \n",
    "        # check for smallest path with neighbors\n",
    "        for child_node, weight in path_options:\n",
    "            \n",
    "            total_cost = weight + shortest_dist[min_dist_node]\n",
    "            print(\"exploring node\", child_node, \", current cost is\", weight, \n",
    "                  \", previous cost is\", shortest_dist[min_dist_node], \", total cost is \", total_cost)\n",
    "            # print(\"current cost is\", weight)\n",
    "            # print(\"previous cost is\", shortest_dist[min_dist_node])\n",
    "            \n",
    "            if total_cost < shortest_dist[child_node]:\n",
    "                shortest_dist[child_node] = total_cost\n",
    "                predecessor[child_node] = min_dist_node\n",
    "           \n",
    "        nodes.pop(min_dist_node)\n",
    "        print(\"remove node\", min_dist_node)\n",
    "    \n",
    "    currentNode = goal\n",
    "    while currentNode != start:\n",
    "        try:\n",
    "            path.insert(0, currentNode)\n",
    "            # print(path)\n",
    "            currentNode = predecessor[currentNode]\n",
    "        except KeyError:\n",
    "            print(\"Path in not reachable\")\n",
    "            break\n",
    "    \n",
    "    path.insert(0, start)\n",
    "    \n",
    "    if shortest_dist[goal] != np.inf:\n",
    "        print(\"Shortest distance is \" + str(shortest_dist[goal]))\n",
    "        print(\"Optimal path is\" + str(path))"
   ]
  },
  {
   "cell_type": "code",
   "execution_count": 1436,
   "id": "9b342396",
   "metadata": {
    "scrolled": true
   },
   "outputs": [
    {
     "name": "stdout",
     "output_type": "stream",
     "text": [
      "expanding node  a\n",
      "expanding node  a\n",
      "expanding node  a\n",
      "expanding node  a\n",
      "expanding node  a\n",
      "expanding node  a\n",
      "expanding node  a\n",
      "expanding node  a\n",
      "path options are  dict_items([('b', 3), ('c', 2), ('d', 7)])\n",
      "exploring node b , current cost is 3 , previous cost is 0 , total cost is  3\n",
      "exploring node c , current cost is 2 , previous cost is 0 , total cost is  2\n",
      "exploring node d , current cost is 7 , previous cost is 0 , total cost is  7\n",
      "remove node a\n",
      "expanding node  b\n",
      "expanding node  c\n",
      "expanding node  c\n",
      "expanding node  c\n",
      "expanding node  c\n",
      "expanding node  c\n",
      "expanding node  c\n",
      "path options are  dict_items([('f', 6), ('d', 2)])\n",
      "exploring node f , current cost is 6 , previous cost is 2 , total cost is  8\n",
      "exploring node d , current cost is 2 , previous cost is 2 , total cost is  4\n",
      "remove node c\n",
      "expanding node  b\n",
      "expanding node  b\n",
      "expanding node  b\n",
      "expanding node  b\n",
      "expanding node  b\n",
      "expanding node  b\n",
      "path options are  dict_items([('c', 1), ('f', 5)])\n",
      "exploring node c , current cost is 1 , previous cost is 3 , total cost is  4\n",
      "exploring node f , current cost is 5 , previous cost is 3 , total cost is  8\n",
      "remove node b\n",
      "expanding node  d\n",
      "expanding node  d\n",
      "expanding node  d\n",
      "expanding node  d\n",
      "expanding node  d\n",
      "path options are  dict_items([('e', 3), ('g', 6)])\n",
      "exploring node e , current cost is 3 , previous cost is 4 , total cost is  7\n",
      "exploring node g , current cost is 6 , previous cost is 4 , total cost is  10\n",
      "remove node d\n",
      "expanding node  e\n",
      "expanding node  e\n",
      "expanding node  e\n",
      "expanding node  e\n",
      "path options are  dict_items([('g', 3), ('h', 4)])\n",
      "exploring node g , current cost is 3 , previous cost is 7 , total cost is  10\n",
      "exploring node h , current cost is 4 , previous cost is 7 , total cost is  11\n",
      "remove node e\n",
      "expanding node  f\n",
      "expanding node  f\n",
      "expanding node  f\n",
      "path options are  dict_items([('e', 1), ('h', 8)])\n",
      "exploring node e , current cost is 1 , previous cost is 8 , total cost is  9\n",
      "exploring node h , current cost is 8 , previous cost is 8 , total cost is  16\n",
      "remove node f\n",
      "expanding node  g\n",
      "expanding node  g\n",
      "path options are  dict_items([('h', 2)])\n",
      "exploring node h , current cost is 2 , previous cost is 10 , total cost is  12\n",
      "remove node g\n",
      "expanding node  h\n",
      "path options are  dict_items([('g', 2)])\n",
      "exploring node g , current cost is 2 , previous cost is 11 , total cost is  13\n",
      "remove node h\n",
      "Shortest distance is 11\n",
      "Optimal path is['a', 'c', 'd', 'e', 'h']\n"
     ]
    }
   ],
   "source": [
    "dijkstra(graph, 'a', 'h')"
   ]
  },
  {
   "cell_type": "code",
   "execution_count": 1437,
   "id": "cdfbbe59",
   "metadata": {},
   "outputs": [],
   "source": [
    "def is_collision(curr_x, curr_y, target_x, target_y, robot_radius, obstacle_kd_tree, transform):\n",
    "    x = curr_x\n",
    "    y = curr_y\n",
    "    dx = target_x - curr_x\n",
    "    dy = target_y - curr_y\n",
    "    yaw = math.atan2(target_y - curr_y, target_x - curr_x)\n",
    "    # yaw = transform.rotation.yaw\n",
    "    d = np.sqrt(dx ** 2 + dy ** 2)\n",
    "\n",
    "    #if d >= 30:\n",
    "    #    return True\n",
    "\n",
    "    D = robot_radius\n",
    "    n_step = round(d / D)\n",
    "\n",
    "    for i in range(n_step):\n",
    "        dist, _ = obstacle_kd_tree.query([x, y])\n",
    "        if dist <= robot_radius:\n",
    "            return True  # collision\n",
    "        x += D * math.cos(yaw)\n",
    "        y += D * math.sin(yaw)\n",
    "\n",
    "    # goal point check\n",
    "    dist, _ = obstacle_kd_tree.query([target_x, target_y])\n",
    "    if dist <= robot_radius:\n",
    "        return True  # collision\n",
    "\n",
    "    return False  # OK\n",
    "\n",
    "def generate_road_map(sample_x, sample_y, robot_radius, obstacle_kd_tree, transform):\n",
    "    road_map = []\n",
    "    n_sample = len(sample_x)\n",
    "    sample_kd_tree = KDTree(np.vstack((sample_x, sample_y)).T)\n",
    "    # print('sample tree is \\n', np.vstack((sample_x, sample_y)).T)\n",
    "    for (i, ix, iy) in zip(range(n_sample), sample_x, sample_y):\n",
    "        dists, indexes = sample_kd_tree.query([ix, iy], k=n_sample)\n",
    "        # print(dists, indexes)\n",
    "        edge_id = []\n",
    "\n",
    "        for ii in range(1, len(indexes)):\n",
    "            nx = sample_x[indexes[ii]]\n",
    "            ny = sample_y[indexes[ii]]\n",
    "\n",
    "            if not is_collision(ix, iy, nx, ny, robot_radius, obstacle_kd_tree, transform):\n",
    "                edge_id.append(indexes[ii])\n",
    "\n",
    "            if len(edge_id) >= 10:\n",
    "                break\n",
    "\n",
    "        road_map.append(edge_id)\n",
    "    return road_map\n",
    "\n",
    "def sample_points(curr_x, curr_y, target_x, target_y, robot_radius, obs_x, obs_y, obs_KDTree, rng, transform, sample_length):\n",
    "\n",
    "    max_x = max(obs_x)\n",
    "    max_y = max(obs_y)\n",
    "    min_x = min(obs_x)\n",
    "    min_y = min(obs_y)\n",
    "\n",
    "    sample_x, sample_y = [], []\n",
    "\n",
    "    if rng is None:\n",
    "        rng = np.random.default_rng()\n",
    "\n",
    "    while len(sample_x) <= sample_length:\n",
    "        temp_x = (rng.random() * (max_x - min_x)) + min_x\n",
    "        temp_y = (rng.random() * (max_y - min_y)) + min_y\n",
    "\n",
    "        dist, index = obs_KDTree.query([temp_x, temp_y]) #find closest dist and index to temp\n",
    "\n",
    "        if dist >= robot_radius:\n",
    "            sample_x.append(temp_x)\n",
    "            sample_y.append(temp_y)\n",
    "\n",
    "    sample_x.append(curr_x)\n",
    "    sample_y.append(curr_y)\n",
    "    sample_x.append(target_x)\n",
    "    sample_y.append(target_y)\n",
    "\n",
    "    return sample_x, sample_y\n",
    "\n",
    "class Node:\n",
    "    \"\"\"\n",
    "    Node class for dijkstra search\n",
    "    \"\"\"\n",
    "    def __init__(self, x, y, cost, parent_index):\n",
    "        self.x = x\n",
    "        self.y = y\n",
    "        self.cost = cost\n",
    "        self.parent_index = parent_index\n",
    "\n",
    "def dijkstra(curr_x, curr_y, target_x, target_y, road_map, sample_x, sample_y, transform):\n",
    "\n",
    "    # Node(x, y, cost, parent_index)\n",
    "    start_node = Node(curr_x, curr_y, 0.0, -1)\n",
    "    #print(\"start node is\", start_node.x)\n",
    "    goal_node = Node(target_x, target_y, 0.0, -1)\n",
    "\n",
    "    open_set, closed_set = {}, {}\n",
    "    open_set[len(road_map) - 2] = start_node\n",
    "    \n",
    "\n",
    "    path_found = True\n",
    "\n",
    "    while True:\n",
    "        # if not open_set:\n",
    "        mykeys = list(open_set.keys())\n",
    "        # print('mykeys are', mykeys)\n",
    "        \n",
    "        if len(open_set) == 0:\n",
    "            # print(open_set[mykeys[0]])\n",
    "            # print('length of openset is ', len(open_set))\n",
    "            print(\"Cannot find path\")\n",
    "            path_found = False\n",
    "            break\n",
    "\n",
    "        c_id = min(open_set, key=lambda o: open_set[o].cost)\n",
    "        '''\n",
    "        min_cost = np.inf\n",
    "        for i in range(len(open_set)):\n",
    "            key = list(open_set.keys())[i]\n",
    "            cost = open_set[key].cost\n",
    "            if cost < min_cost:\n",
    "                min_cost = cost\n",
    "                c_id = key\n",
    "        '''\n",
    "        current = open_set[c_id]\n",
    "\n",
    "        if c_id == (len(road_map) - 1):\n",
    "            print(\"goal is found!\")\n",
    "            goal_node.parent_index = current.parent_index\n",
    "            goal_node.cost = current.cost\n",
    "            break\n",
    "\n",
    "        # Remove the item from the open set\n",
    "        # print(\"my deleted key is \", c_id)\n",
    "        del open_set[c_id]\n",
    "        # Add it to the closed set\n",
    "        closed_set[c_id] = current\n",
    "\n",
    "        # expand search grid based on motion model\n",
    "        for i in range(len(road_map[c_id])):\n",
    "            n_id = road_map[c_id][i]\n",
    "            dx = sample_x[n_id] - current.x\n",
    "            dy = sample_y[n_id] - current.y\n",
    "            d = math.hypot(dx, dy)\n",
    "            node = Node(sample_x[n_id], sample_y[n_id],\n",
    "                        current.cost + d, c_id)\n",
    "\n",
    "            if n_id in closed_set:\n",
    "                continue\n",
    "            # Otherwise if it is already in the open set\n",
    "            if n_id in open_set:\n",
    "                if open_set[n_id].cost > node.cost:\n",
    "                    open_set[n_id].cost = node.cost\n",
    "                    open_set[n_id].parent_index = c_id\n",
    "            else:\n",
    "                open_set[n_id] = node\n",
    "\n",
    "    if path_found is False:\n",
    "        return []\n",
    "\n",
    "    # generate final course\n",
    "    # path = [[goal_node.x, goal_node.y, 0]]\n",
    "    path = [[goal_node.x, goal_node.y]]\n",
    "    parent_index = goal_node.parent_index\n",
    "    while parent_index != -1:\n",
    "        n = closed_set[parent_index]\n",
    "        # path.append([n.x, n.y, 0])\n",
    "        path.append([n.x, n.y])\n",
    "        parent_index = n.parent_index\n",
    "\n",
    "    return path"
   ]
  },
  {
   "cell_type": "code",
   "execution_count": 1438,
   "id": "c041a237",
   "metadata": {},
   "outputs": [
    {
     "data": {
      "text/plain": [
       "'\\n# sample_x = np.random.randint(100, size=500)\\n# sample_y = np.random.randint(100, size=500)\\n\\ncurr_x, curr_y = np.random.randint(10), np.random.randint(10)\\ntarget_x, target_y = np.random.randint(90), np.random.randint(90)\\nobs_size = 10\\nobs_x = np.random.randint(100, size=obs_size)\\nobs_y = np.random.randint(100, size=obs_size)\\ntransform = 1\\nrobot_radius = 2.35\\nobstacle_kd_tree = KDTree(np.vstack((obs_x, obs_y)).T) # vertical stack then transpose\\n\\nsample_x, sample_y = sample_points(curr_x, curr_y, target_x, target_y, robot_radius, obs_x, obs_y, obstacle_kd_tree, None, transform)\\n\\n# print(\"obstacle is \\n\", np.vstack((obs_x, obs_y)).T)\\n# print(\"roadmap is \\n\", generate_road_map(sample_x, sample_y, robot_radius, obstacle_kd_tree, transform))\\nroadmap = generate_road_map(sample_x, sample_y, robot_radius, obstacle_kd_tree, transform)\\nroad_map = roadmap\\n\\npaths = dijkstra(curr_x, curr_y, target_x, target_y, road_map, sample_x, sample_y, transform)\\nprint(paths)\\nprint(\"length of new waypoints is\", len(paths))\\n'"
      ]
     },
     "execution_count": 1438,
     "metadata": {},
     "output_type": "execute_result"
    }
   ],
   "source": [
    "\"\"\"\n",
    "# sample_x = np.random.randint(100, size=500)\n",
    "# sample_y = np.random.randint(100, size=500)\n",
    "\n",
    "curr_x, curr_y = np.random.randint(10), np.random.randint(10)\n",
    "target_x, target_y = np.random.randint(90), np.random.randint(90)\n",
    "obs_size = 10\n",
    "obs_x = np.random.randint(100, size=obs_size)\n",
    "obs_y = np.random.randint(100, size=obs_size)\n",
    "transform = 1\n",
    "robot_radius = 2.35\n",
    "obstacle_kd_tree = KDTree(np.vstack((obs_x, obs_y)).T) # vertical stack then transpose\n",
    "\n",
    "sample_x, sample_y = sample_points(curr_x, curr_y, target_x, target_y, robot_radius, obs_x, obs_y, obstacle_kd_tree, None, transform)\n",
    "\n",
    "# print(\"obstacle is \\n\", np.vstack((obs_x, obs_y)).T)\n",
    "# print(\"roadmap is \\n\", generate_road_map(sample_x, sample_y, robot_radius, obstacle_kd_tree, transform))\n",
    "roadmap = generate_road_map(sample_x, sample_y, robot_radius, obstacle_kd_tree, transform)\n",
    "road_map = roadmap\n",
    "\n",
    "paths = dijkstra(curr_x, curr_y, target_x, target_y, road_map, sample_x, sample_y, transform)\n",
    "print(paths)\n",
    "print(\"length of new waypoints is\", len(paths))\n",
    "\"\"\""
   ]
  },
  {
   "cell_type": "code",
   "execution_count": 1439,
   "id": "94f1fccc",
   "metadata": {},
   "outputs": [
    {
     "data": {
      "text/plain": [
       "'\\n# plotting\\n\\nprint(\"start = red, goal = green, obstacles = black, edge = blue\")\\nplot_x, plot_y = [], []\\nfor path in paths:\\n    plot_x.append(path[0])\\n    plot_y.append(path[1])\\nplt.plot(plot_x, plot_y, color=\\'blue\\')\\nplt.scatter(plot_x[1:-1], plot_y[1:-1], color=\\'blue\\')\\nplt.scatter(plot_x[0], plot_y[0], color=\\'green\\')\\nplt.scatter(plot_x[-1], plot_y[-1], color=\\'red\\')\\nplt.scatter(obs_x, obs_y, color=\\'black\\')\\n#plt.scatter(sample_x, sample_y, color=\\'yellow\\')\\nplt.grid()\\nplt.tight_layout()\\n'"
      ]
     },
     "execution_count": 1439,
     "metadata": {},
     "output_type": "execute_result"
    }
   ],
   "source": [
    "'''\n",
    "# plotting\n",
    "\n",
    "print(\"start = red, goal = green, obstacles = black, edge = blue\")\n",
    "plot_x, plot_y = [], []\n",
    "for path in paths:\n",
    "    plot_x.append(path[0])\n",
    "    plot_y.append(path[1])\n",
    "plt.plot(plot_x, plot_y, color='blue')\n",
    "plt.scatter(plot_x[1:-1], plot_y[1:-1], color='blue')\n",
    "plt.scatter(plot_x[0], plot_y[0], color='green')\n",
    "plt.scatter(plot_x[-1], plot_y[-1], color='red')\n",
    "plt.scatter(obs_x, obs_y, color='black')\n",
    "#plt.scatter(sample_x, sample_y, color='yellow')\n",
    "plt.grid()\n",
    "plt.tight_layout()\n",
    "'''"
   ]
  },
  {
   "cell_type": "code",
   "execution_count": 1440,
   "id": "724835ce",
   "metadata": {},
   "outputs": [],
   "source": [
    "def prm(curr_x, curr_y, target_x, target_y, filtered_obstacles, robot_radius, transform, obs_x, obs_y):\n",
    "        # robot_radius = 2.35\n",
    "        rng = None\n",
    "        paths = []\n",
    "\n",
    "\n",
    "        obs_KDTree = KDTree(np.vstack((obs_x, obs_y)).T) # vertical stack then transpose\n",
    "        # obs_KDTree = KDTree(np.vstack((obs_x, obs_y))) # vertical stack then transpose\n",
    "\n",
    "        if (len(obs_x) == 0 and len(obs_y) == 0):\n",
    "            return paths\n",
    "\n",
    "        sample_x, sample_y = sample_points(curr_x, curr_y, target_x, target_y, robot_radius, obs_x, obs_y, obs_KDTree, rng, transform, sample_length)\n",
    "\n",
    "        road_map = generate_road_map(sample_x, sample_y,robot_radius, obs_KDTree, transform)\n",
    "\n",
    "        paths = dijkstra(curr_x, curr_y, target_x, target_y, road_map, sample_x, sample_y, transform)\n",
    "        \n",
    "        # print('new path is', paths)\n",
    "        \n",
    "        \n",
    "        return paths, sample_x, sample_y, road_map"
   ]
  },
  {
   "cell_type": "code",
   "execution_count": 1441,
   "id": "2ff970c6",
   "metadata": {},
   "outputs": [
    {
     "name": "stdout",
     "output_type": "stream",
     "text": [
      "distance to obstacle is 2.8284271247461903\n",
      "goal is found!\n",
      "num of prm 1\n",
      "checking...... True\n"
     ]
    },
    {
     "data": {
      "image/png": "[encoded data removed]",
      "text/plain": [
       "<Figure size 576x576 with 1 Axes>"
      ]
     },
     "metadata": {
      "needs_background": "light"
     },
     "output_type": "display_data"
    }
   ],
   "source": [
    "filtered_obstacles = None\n",
    "waypoints = [[15, 9], [30, 40], [60, 89], [100, 90]]\n",
    "sample_length = 200\n",
    "\n",
    "obs_size = 100\n",
    "obs_x = np.random.randint(100, size=obs_size)\n",
    "obs_y = np.random.randint(100, size=obs_size)\n",
    "transform = 1 \n",
    "robot_radius = 1\n",
    "obstacle_kd_tree = KDTree(np.vstack((obs_x, obs_y)).T) # vertical stack then transpose\n",
    "\n",
    "target_x, target_y = waypoints[-1]\n",
    "waypoint_x, waypoint_y = [], []\n",
    "'''\n",
    "plt.figure()\n",
    "plt.grid()\n",
    "plt.tight_layout()\n",
    "for waypoint in waypoints: \n",
    "    waypoint_x = waypoint[0]\n",
    "    waypoint_y = waypoint[1]\n",
    "    plt.scatter(waypoint_x, waypoint_y, color='yellow')\n",
    "'''\n",
    "# print('original waypoints is ', waypoints)\n",
    "\n",
    "'''\n",
    "obs_x = []\n",
    "obs_y = []\n",
    "for i in range(len(filtered_obstacles)):\n",
    "    obs_x.append(filtered_obstacles[i].get_location().x)\n",
    "    obs_y.append(filtered_obstacles[i].get_location().y)\n",
    "'''\n",
    "\n",
    "distance = np.inf\n",
    "curr_x, curr_y = 5, 6\n",
    "for i in range(len(obs_x)):\n",
    "    temp_d = math.sqrt((curr_x - obs_x[i])**2 + (curr_y-obs_y[i])**2)  #fku lugou\n",
    "    if temp_d < distance:\n",
    "        distance = temp_d\n",
    "print('distance to obstacle is', distance)\n",
    "\n",
    "#for waypoint in waypoints:\n",
    "target_x, target_y = waypoints[-1]\n",
    "if distance <= 30: # 30: the distance from the closest obstacle to start avoiding program\n",
    "    i = 1\n",
    "    new_waypoints = copy.deepcopy(waypoints)\n",
    "    paths, sample_x, sample_y, road_map = prm(curr_x=curr_x, curr_y=curr_y, target_x=target_x, target_y=target_y, filtered_obstacles=filtered_obstacles, robot_radius=robot_radius, transform=transform, obs_x=obs_x, obs_y=obs_y)\n",
    "    while len(paths) == 0:\n",
    "        i += 1\n",
    "        paths, sample_x, sample_y, road_map = prm(curr_x=curr_x, curr_y=curr_y, target_x=target_x, target_y=target_y, filtered_obstacles=filtered_obstacles, robot_radius=robot_radius, transform=transform, obs_x=obs_x, obs_y=obs_y)\n",
    "    # curr_x, curr_y = paths[0]\n",
    "    print('num of prm', i)\n",
    "    plot_x, plot_y = [], []\n",
    "    for path in paths:\n",
    "        plot_x.append(path[0])\n",
    "        plot_y.append(path[1])\n",
    "    \n",
    "    print(\"checking......\", paths[-1]==[curr_x, curr_y])\n",
    "    plt.figure(figsize=(8,8))\n",
    "    # plt.scatter(plot_x[0], plot_y[0], color='green')\n",
    "    plt.scatter(obs_x, obs_y, color='black', label='obstacles') #obstacles\n",
    "    plt.scatter(sample_x, sample_y, color='green', label='samples')\n",
    "    plt.plot(plot_x, plot_y, color='blue', label='edges')\n",
    "    plt.scatter(plot_x[1:-1], plot_y[1:-1], color='blue', label='new waypoints') #new waypoints\n",
    "    plt.scatter(plot_x[-1], plot_y[-1], color='red', label='start') #start\n",
    "    plt.scatter(plot_x[0], plot_y[0], color='magenta', label='goal') #start\n",
    "    plt.legend()\n",
    "    plt.grid()\n",
    "    if len(paths) != 0:\n",
    "        new_waypoints.remove(waypoints[0])\n",
    "        for path in paths:\n",
    "            new_waypoints.insert(0, path)\n",
    "else:\n",
    "    temp_x = []\n",
    "    temp_y = []\n",
    "    for i in range(len(waypoints)):\n",
    "        temp_x.append(waypoints[i][0])\n",
    "        temp_y.append(waypoints[i][1])\n",
    "    plt.plot(temp_x, temp_y, color='blue')"
   ]
  },
  {
   "cell_type": "code",
   "execution_count": 1442,
   "id": "a9ba505c",
   "metadata": {},
   "outputs": [
    {
     "name": "stdout",
     "output_type": "stream",
     "text": [
      "waypoint is  [[15, 9], [30, 40], [60, 89], [100, 90]]\n",
      "length of roadmap is 10\n",
      "length of sample_x is  203\n",
      "goal is [100, 90] start is [5, 6]\n",
      "goal is [100, 90] start is [5, 6]\n"
     ]
    }
   ],
   "source": [
    "print('waypoint is ', waypoints)\n",
    "print('length of roadmap is', len(road_map[0]))\n",
    "print('length of sample_x is ', len(sample_x))\n",
    "print('goal is', paths[0], 'start is', paths[-1])\n",
    "print('goal is', [target_x, target_y], 'start is', [curr_x, curr_y])"
   ]
  },
  {
   "cell_type": "code",
   "execution_count": 1444,
   "id": "0ccdfa22",
   "metadata": {},
   "outputs": [
    {
     "data": {
      "image/png": "[encoded data removed]",
      "text/plain": [
       "<Figure size 432x288 with 1 Axes>"
      ]
     },
     "metadata": {
      "needs_background": "light"
     },
     "output_type": "display_data"
    }
   ],
   "source": [
    "plt.scatter(sample_x, sample_y, color='green')\n",
    "plt.scatter(obs_x, obs_y, color='black')\n",
    "plt.grid()"
   ]
  },
  {
   "cell_type": "code",
   "execution_count": null,
   "id": "ae8f98ee",
   "metadata": {},
   "outputs": [],
   "source": []
  },
  {
   "cell_type": "code",
   "execution_count": null,
   "id": "6f6fc34d",
   "metadata": {},
   "outputs": [],
   "source": []
  },
  {
   "cell_type": "code",
   "execution_count": null,
   "id": "77a40837",
   "metadata": {},
   "outputs": [],
   "source": []
  },
  {
   "cell_type": "code",
   "execution_count": 1425,
   "id": "a02d7a2b",
   "metadata": {},
   "outputs": [
    {
     "name": "stdout",
     "output_type": "stream",
     "text": [
      "(100, 2)\n"
     ]
    },
    {
     "data": {
      "text/plain": [
       "<matplotlib.collections.PathCollection at 0x7fb011558b20>"
      ]
     },
     "execution_count": 1425,
     "metadata": {},
     "output_type": "execute_result"
    },
    {
     "data": {
      "image/png": "[encoded data removed]",
      "text/plain": [
       "<Figure size 720x576 with 4 Axes>"
      ]
     },
     "metadata": {
      "needs_background": "light"
     },
     "output_type": "display_data"
    }
   ],
   "source": [
    "# sampling with rotation matrix\n",
    "a = np.array([2,1])\n",
    "b = np.array([3,4])\n",
    "c = np.array([1,2])\n",
    "d = np.array([4,3])\n",
    "x = [2,3,1,4]\n",
    "y = [1,4,2,3]\n",
    "plt.figure(figsize=(10,8))\n",
    "plt.subplot(2,2,1)\n",
    "plt.title('original')\n",
    "plt.scatter(x,y)\n",
    "theta = np.arctan((3-1)/(4-2))\n",
    "def rot(theta):\n",
    "    return np.array([[np.cos(theta), -np.sin(theta)],\n",
    "                     [np.sin(theta), np.cos(theta)]])\n",
    "a, b, c, d = rot(theta) @ a, rot(theta) @ b, rot(theta) @ c, rot(theta) @ d\n",
    "# a, b, c, d = rot\n",
    "plot_x = [a[0],b[0],c[0],d[0]]\n",
    "plot_y = [a[1],b[1],c[1],d[1]]\n",
    "plt.subplot(2,2,2)\n",
    "plt.title('aligned')\n",
    "plt.scatter(plot_x, plot_y)\n",
    "sample_x = np.random.uniform(min(plot_x), max(plot_x), size=100)\n",
    "sample_y = np.random.uniform(min(plot_y), max(plot_y), size=100)\n",
    "plt.subplot(2,2,3)\n",
    "plt.title('samples_aligned')\n",
    "plt.scatter(sample_x, sample_y, color='blue')\n",
    "plt.scatter(plot_x, plot_y, color='red')\n",
    "sample = np.zeros((100, 2))\n",
    "print(sample.shape)\n",
    "for i in range(len(sample_x)):\n",
    "    temp = np.array([sample_x[i], sample_y[i]])\n",
    "    sample[i] = np.linalg.pinv(rot(theta)) @ temp\n",
    "plt.subplot(2,2,4)\n",
    "plt.title('samples transformed')\n",
    "plt.scatter(sample[:, 0], sample[:, 1])\n",
    "plt.scatter(x, y)"
   ]
  },
  {
   "cell_type": "code",
   "execution_count": 1417,
   "id": "68addbab",
   "metadata": {},
   "outputs": [
    {
     "data": {
      "text/plain": [
       "<matplotlib.collections.PathCollection at 0x7fb010ecf070>"
      ]
     },
     "execution_count": 1417,
     "metadata": {},
     "output_type": "execute_result"
    },
    {
     "data": {
      "image/png": "[encoded data removed]",
      "text/plain": [
       "<Figure size 432x288 with 1 Axes>"
      ]
     },
     "metadata": {
      "needs_background": "light"
     },
     "output_type": "display_data"
    }
   ],
   "source": []
  },
  {
   "cell_type": "code",
   "execution_count": 1153,
   "id": "964ee344",
   "metadata": {},
   "outputs": [
    {
     "data": {
      "text/plain": [
       "<matplotlib.collections.PathCollection at 0x7fb0114e8520>"
      ]
     },
     "execution_count": 1153,
     "metadata": {},
     "output_type": "execute_result"
    },
    {
     "data": {
      "image/png": "[encoded data removed]",
      "text/plain": [
       "<Figure size 432x288 with 1 Axes>"
      ]
     },
     "metadata": {
      "needs_background": "light"
     },
     "output_type": "display_data"
    }
   ],
   "source": [
    "sample_x = np.random.uniform(min(plot_x), max(plot_x), size=100)\n",
    "sample_y = np.random.uniform(min(plot_y), max(plot_y), size=100)\n",
    "plt.scatter(sample_x, sample_y, color='blue')\n",
    "plt.scatter(plot_x, plot_y, color='red')"
   ]
  },
  {
   "cell_type": "code",
   "execution_count": 1154,
   "id": "cfb10066",
   "metadata": {},
   "outputs": [
    {
     "name": "stdout",
     "output_type": "stream",
     "text": [
      "(100, 2)\n"
     ]
    },
    {
     "data": {
      "text/plain": [
       "<matplotlib.collections.PathCollection at 0x7fb009c8fb50>"
      ]
     },
     "execution_count": 1154,
     "metadata": {},
     "output_type": "execute_result"
    },
    {
     "data": {
      "image/png": "[encoded data removed]",
      "text/plain": [
       "<Figure size 432x288 with 1 Axes>"
      ]
     },
     "metadata": {
      "needs_background": "light"
     },
     "output_type": "display_data"
    }
   ],
   "source": [
    "sample = np.zeros((100, 2))\n",
    "print(sample.shape)\n",
    "for i in range(len(sample_x)):\n",
    "    temp = np.array([sample_x[i], sample_y[i]])\n",
    "    sample[i] = np.linalg.pinv(rot(theta)) @ temp\n",
    "plt.scatter(sample[:, 0], sample[:, 1])\n",
    "plt.scatter(x, y)"
   ]
  },
  {
   "cell_type": "code",
   "execution_count": null,
   "id": "f2c96d27",
   "metadata": {},
   "outputs": [],
   "source": []
  },
  {
   "cell_type": "code",
   "execution_count": 1412,
   "id": "90f73525",
   "metadata": {},
   "outputs": [],
   "source": [
    "a=[1,2,3]\n"
   ]
  },
  {
   "cell_type": "code",
   "execution_count": 1413,
   "id": "477e6d01",
   "metadata": {},
   "outputs": [
    {
     "data": {
      "text/plain": [
       "[2]"
      ]
     },
     "execution_count": 1413,
     "metadata": {},
     "output_type": "execute_result"
    }
   ],
   "source": [
    "a[1:-1]"
   ]
  },
  {
   "cell_type": "code",
   "execution_count": 1433,
   "id": "9641c204",
   "metadata": {},
   "outputs": [
    {
     "data": {
      "text/plain": [
       "-0.0"
      ]
     },
     "execution_count": 1433,
     "metadata": {},
     "output_type": "execute_result"
    }
   ],
   "source": [
    "np.arctan(0/-10)"
   ]
  },
  {
   "cell_type": "code",
   "execution_count": null,
   "id": "2f47a395",
   "metadata": {},
   "outputs": [],
   "source": [
    "np"
   ]
  }
 ],
 "metadata": {
  "kernelspec": {
   "display_name": "Python 3",
   "language": "python",
   "name": "python3"
  },
  "language_info": {
   "codemirror_mode": {
    "name": "ipython",
    "version": 3
   },
   "file_extension": ".py",
   "mimetype": "text/x-python",
   "name": "python",
   "nbconvert_exporter": "python",
   "pygments_lexer": "ipython3",
   "version": "3.8.8"
  }
 },
 "nbformat": 4,
 "nbformat_minor": 5
}
